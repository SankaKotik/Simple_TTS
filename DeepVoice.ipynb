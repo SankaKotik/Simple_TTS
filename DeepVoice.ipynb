{
  "nbformat": 4,
  "nbformat_minor": 5,
  "metadata": {
    "colab": {
      "name": "DeepVoice.ipynb",
      "provenance": [],
      "collapsed_sections": [],
      "include_colab_link": true
    },
    "kernelspec": {
      "display_name": "Python 3",
      "language": "python",
      "name": "python3"
    },
    "language_info": {
      "codemirror_mode": {
        "name": "ipython",
        "version": 3
      },
      "file_extension": ".py",
      "mimetype": "text/x-python",
      "name": "python",
      "nbconvert_exporter": "python",
      "pygments_lexer": "ipython3",
      "version": "3.8.8"
    },
    "toc": {
      "base_numbering": 1,
      "nav_menu": {},
      "number_sections": true,
      "sideBar": true,
      "skip_h1_title": false,
      "title_cell": "Table of Contents",
      "title_sidebar": "Contents",
      "toc_cell": false,
      "toc_position": {},
      "toc_section_display": true,
      "toc_window_display": false
    }
  },
  "cells": [
    {
      "cell_type": "markdown",
      "metadata": {
        "id": "view-in-github",
        "colab_type": "text"
      },
      "source": [
        "<a href=\"https://colab.research.google.com/github/SankaKotik/Simple_TTS/blob/main/DeepVoice.ipynb\" target=\"_parent\"><img src=\"https://colab.research.google.com/assets/colab-badge.svg\" alt=\"Open In Colab\"/></a>"
      ]
    },
    {
      "cell_type": "markdown",
      "metadata": {
        "id": "JrWo9luX8FIz"
      },
      "source": [
        "# DeepVoice TTS"
      ],
      "id": "JrWo9luX8FIz"
    },
    {
      "cell_type": "markdown",
      "metadata": {
        "id": "Pp3vWwzG6KpN"
      },
      "source": [
        "## Installing"
      ],
      "id": "Pp3vWwzG6KpN"
    },
    {
      "cell_type": "code",
      "metadata": {
        "id": "complicated-receiver",
        "cellView": "form"
      },
      "source": [
        "#@title Install dependencies \n",
        "\n",
        "!pip install -q torchaudio omegaconf\n",
        "!pip install -q logmmse\n",
        "\n",
        "import torch\n",
        "from pprint import pprint\n",
        "from omegaconf import OmegaConf\n",
        "from IPython.display import Audio, display\n",
        "\n",
        "torch.hub.download_url_to_file('https://raw.githubusercontent.com/snakers4/silero-models/master/models.yml',\n",
        "                               'latest_silero_models.yml',\n",
        "                               progress=False)\n",
        "models = OmegaConf.load('latest_silero_models.yml')"
      ],
      "id": "complicated-receiver",
      "execution_count": null,
      "outputs": []
    },
    {
      "cell_type": "markdown",
      "metadata": {
        "id": "m7fiqzmf5nHT"
      },
      "source": [
        "### Advanced"
      ],
      "id": "m7fiqzmf5nHT"
    },
    {
      "cell_type": "code",
      "metadata": {
        "id": "pacific-injury",
        "cellView": "form"
      },
      "source": [
        "#@title Show models\n",
        "available_languages = list(models.tts_models.keys())\n",
        "print(f'Available languages {available_languages}')\n",
        "\n",
        "for lang in available_languages:\n",
        "    speakers = list(models.tts_models.get(lang).keys())\n",
        "    print(f'Available speakers for {lang}: {speakers}')"
      ],
      "id": "pacific-injury",
      "execution_count": null,
      "outputs": []
    },
    {
      "cell_type": "markdown",
      "metadata": {
        "id": "53QwvkuL50A5"
      },
      "source": [
        "## Process"
      ],
      "id": "53QwvkuL50A5"
    },
    {
      "cell_type": "code",
      "metadata": {
        "id": "c8f886e8",
        "cellView": "form"
      },
      "source": [
        "#@title Configure TTS\n",
        "import torch\n",
        "\n",
        "language = 'ru'\n",
        "speaker = 'baya_v2'\n",
        "sample_rate = 16000\n",
        "device = torch.device('cpu')\n",
        "model, example_text = torch.hub.load(repo_or_dir='snakers4/silero-models',\n",
        "                                     model='silero_tts',\n",
        "                                     language=language,\n",
        "                                     speaker=speaker)\n",
        "model.to(device)  # gpu or cpu"
      ],
      "id": "c8f886e8",
      "execution_count": null,
      "outputs": []
    },
    {
      "cell_type": "code",
      "metadata": {
        "id": "ebe40114",
        "cellView": "form"
      },
      "source": [
        "#@title Run TTS\n",
        "audio = model.apply_tts(texts=[input('Input text: ')],\n",
        "                        sample_rate=sample_rate)\n",
        "# Enhance\n",
        "import numpy as np\n",
        "from logmmse import logmmse\n",
        "\n",
        "enhanced = logmmse(np.array(audio[0]), sample_rate, output_file=None, initial_noise=1, window_size=160, noise_threshold=0.15)\n",
        "display(Audio(enhanced, rate=sample_rate))"
      ],
      "id": "ebe40114",
      "execution_count": null,
      "outputs": []
    }
  ]
}